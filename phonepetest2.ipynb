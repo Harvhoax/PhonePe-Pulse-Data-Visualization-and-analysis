{
 "cells": [
  {
   "cell_type": "code",
   "execution_count": null,
   "id": "bc7f4cfc",
   "metadata": {},
   "outputs": [],
   "source": [
    "# %pip install requests\n",
    "\n",
    "import psycopg2\n",
    "import pandas as pd\n",
    "import plotly.express as px\n",
    "# %pip install nbformat --upgrade\n",
    "import requests"
   ]
  },
  {
   "cell_type": "code",
   "execution_count": null,
   "id": "e2334aa8",
   "metadata": {},
   "outputs": [],
   "source": [
    "# dataframe creation\n",
    "\n",
    "#sql connection\n",
    "mydb = psycopg2.connect(host= \"localhost\",\n",
    "                        user= \"postgres\",\n",
    "                        port= \"5432\",\n",
    "                        database = \"phonepe_data\",\n",
    "                        password = \"Planck00725\"\n",
    "                        )\n",
    "cursor = mydb.cursor()\n",
    "\n",
    "#aggre_insurance_df\n",
    "cursor.execute(\"SELECT * FROM aggregated_insurance\")\n",
    "mydb.commit()\n",
    "table1 = cursor.fetchall()\n",
    "\n",
    "Aggre_insurance = pd.DataFrame(table1,columns=(\"States\",\"Years\",\"Quarter\",\"Transaction_type\",\n",
    "                                               \"Transaction_count\",\"Transaction_amount\"))\n",
    "\n",
    "#aggre_transaction_df\n",
    "cursor.execute(\"SELECT * FROM aggregated_transaction\")\n",
    "mydb.commit()\n",
    "table2 = cursor.fetchall()\n",
    "\n",
    "Aggre_transaction = pd.DataFrame(table2,columns=(\"States\",\"Years\",\"Quarter\",\"Transaction_type\",\n",
    "                                               \"Transaction_count\",\"Transaction_amount\"))\n",
    "\n",
    "#aggre_user_df\n",
    "cursor.execute(\"SELECT * FROM aggregated_user\")\n",
    "mydb.commit()\n",
    "table3 = cursor.fetchall()\n",
    "\n",
    "Aggre_user = pd.DataFrame(table3,columns=(\"States\",\"Years\",\"Quarter\",\"Brands\",\n",
    "                                               \"Transaction_count\",\"Percentage\"))\n",
    "\n",
    "#map_insurance_df\n",
    "cursor.execute(\"SELECT * FROM map_insurance\")\n",
    "mydb.commit()\n",
    "table4 = cursor.fetchall()\n",
    "\n",
    "map_insurance = pd.DataFrame(table4,columns=(\"States\",\"Years\",\"Quarter\",\"District\",\n",
    "                                               \"Transaction_count\",\"Transaction_amount\"))\n",
    "\n",
    "#map_transactiion_df\n",
    "cursor.execute(\"SELECT * FROM map_transaction\")\n",
    "mydb.commit()\n",
    "table5 = cursor.fetchall()\n",
    "\n",
    "map_transaction = pd.DataFrame(table5,columns=(\"States\",\"Years\",\"Quarter\",\"District\",\n",
    "                                               \"Transaction_count\",\"Transaction_amount\"))\n",
    "\n",
    "#map_user_df\n",
    "cursor.execute(\"SELECT * FROM map_user\")\n",
    "mydb.commit()\n",
    "table6 = cursor.fetchall()\n",
    "\n",
    "map_user = pd.DataFrame(table6,columns=(\"States\",\"Years\",\"Quarter\",\"District\",\n",
    "                                               \"RegisteredUsers\",\"AppOpens\"))\n",
    "\n",
    "#top_insurance_df\n",
    "cursor.execute(\"SELECT * FROM top_insurance\")\n",
    "mydb.commit()\n",
    "table7 = cursor.fetchall()\n",
    "\n",
    "top_insurance = pd.DataFrame(table7,columns=(\"States\",\"Years\",\"Quarter\",\"Pincodes\",\n",
    "                                               \"Transaction_count\",\"Transaction_amount\"))\n",
    "\n",
    "#top_transaction_df\n",
    "cursor.execute(\"SELECT * FROM top_transaction\")\n",
    "mydb.commit()\n",
    "table8 = cursor.fetchall()\n",
    "\n",
    "top_transaction = pd.DataFrame(table8,columns=(\"States\",\"Years\",\"Quarter\",\"Pincodes\",\n",
    "                                               \"Transaction_count\",\"Transaction_amount\"))\n",
    "\n",
    "#top_user_df\n",
    "cursor.execute(\"SELECT * FROM top_user\")\n",
    "mydb.commit()\n",
    "table9 = cursor.fetchall()\n",
    "\n",
    "top_user = pd.DataFrame(table9,columns=(\"States\",\"Years\",\"Quarter\",\"Pincodes\",\n",
    "                                               \"RegisteredUsers\"))\n"
   ]
  },
  {
   "cell_type": "code",
   "execution_count": null,
   "id": "d15bf12a",
   "metadata": {},
   "outputs": [],
   "source": [
    "#sql connection\n",
    "def top_chart_transaction_amount(table_name):\n",
    "    mydb = psycopg2.connect(host= \"localhost\",\n",
    "                            user= \"postgres\",\n",
    "                            port= \"5432\",\n",
    "                            database = \"phonepe_data\",\n",
    "                            password = \"Planck00725\"\n",
    "                            )\n",
    "    cursor = mydb.cursor()\n",
    "\n",
    "    #plot_1\n",
    "    query_1 = f'''SELECT states, SUM(transaction_amount) AS transaction_amount\n",
    "                    FROM {table_name}\n",
    "                    GROUP BY states\n",
    "                    ORDER BY transaction_amount DESC\n",
    "                    LIMIT 10;'''\n",
    "\n",
    "    cursor.execute(query_1)\n",
    "    table_1 = cursor.fetchall()\n",
    "    mydb.commit()\n",
    "\n",
    "    df_1 = pd.DataFrame(table_1, columns = (\"states\", \"transaction_amount\"))\n",
    "\n",
    "    fig_amount = px.bar(df_1, hover_name= \"states\",\n",
    "                        x=\"states\", y=\"transaction_amount\", \n",
    "                        title=\"TRANSACTION AMOUNT\",\n",
    "                        color_discrete_sequence=px.colors.sequential.Aggrnyl, \n",
    "                        )\n",
    "    fig_amount.update_layout(height=650, width = 600, xaxis_tickangle=45)\n",
    "    fig_amount.show()\n",
    "\n",
    "    #plot_2\n",
    "    query_2 = f'''SELECT states, SUM(transaction_amount) AS transaction_amount\n",
    "                    FROM {table_name}\n",
    "                    GROUP BY states\n",
    "                    ORDER BY transaction_amount DESC\n",
    "                    LIMIT 10;'''\n",
    "\n",
    "    cursor.execute(query_2)\n",
    "    table_2 = cursor.fetchall()\n",
    "    mydb.commit()\n",
    "\n",
    "    df_2 = pd.DataFrame(table_2, columns = (\"states\", \"transaction_amount\"))\n",
    "\n",
    "    fig_amount_2 = px.bar(df_2, hover_name= \"states\",\n",
    "                        x=\"states\", y=\"transaction_amount\", \n",
    "                        title=\"TRANSACTION AMOUNT\",\n",
    "                        color_discrete_sequence=px.colors.sequential.Agsunset_r, \n",
    "                        )\n",
    "    fig_amount_2.update_layout(height=650, width = 600, xaxis_tickangle=90)\n",
    "    fig_amount_2.show()\n",
    "\n",
    "    #plot_3\n",
    "    query_3 = f'''SELECT states, AVG(transaction_amount) AS transaction_amount\n",
    "                    FROM {table_name}\n",
    "                    GROUP BY states\n",
    "                    ORDER BY transaction_amount;\n",
    "                    '''\n",
    "\n",
    "    cursor.execute(query_3)\n",
    "    table_3 = cursor.fetchall()\n",
    "    mydb.commit()\n",
    "\n",
    "    df_3 = pd.DataFrame(table_3, columns = (\"states\", \"transaction_amount\"))\n",
    "\n",
    "    fig_amount_3 = px.bar(df_3, hover_name= \"states\",\n",
    "                        y=\"states\", x=\"transaction_amount\", orientation= 'h', \n",
    "                        title=\"TRANSACTION AMOUNT\",\n",
    "                        color_discrete_sequence=px.colors.sequential.Bluered_r, \n",
    "                        )\n",
    "    fig_amount_3.update_layout(height=650, width = 600, xaxis_tickangle=90)\n",
    "    fig_amount_3.show()"
   ]
  },
  {
   "cell_type": "code",
   "execution_count": null,
   "id": "f5f4e2ba",
   "metadata": {},
   "outputs": [],
   "source": [
    "#sql connection\n",
    "def top_chart_transaction_count(table_name):\n",
    "    mydb = psycopg2.connect(host= \"localhost\",\n",
    "                            user= \"postgres\",\n",
    "                            port= \"5432\",\n",
    "                            database = \"phonepe_data\",\n",
    "                            password = \"Planck00725\"\n",
    "                            )\n",
    "    cursor = mydb.cursor()\n",
    "\n",
    "    #plot_1\n",
    "    query_1 = f'''SELECT states, SUM(transaction_count) AS transaction_count\n",
    "                    FROM {table_name}\n",
    "                    GROUP BY states\n",
    "                    ORDER BY transaction_count DESC\n",
    "                    LIMIT 10;'''\n",
    "\n",
    "    cursor.execute(query_1)\n",
    "    table_1 = cursor.fetchall()\n",
    "    mydb.commit()\n",
    "\n",
    "    df_1 = pd.DataFrame(table_1, columns = (\"states\", \"transaction_count\"))\n",
    "\n",
    "    fig_amount = px.bar(df_1, hover_name= \"states\",\n",
    "                        x=\"states\", y=\"transaction_count\", \n",
    "                        title=\"TRANSACTION COUNT\",\n",
    "                        color_discrete_sequence=px.colors.sequential.Aggrnyl, \n",
    "                        )\n",
    "    fig_amount.update_layout(height=650, width = 600, xaxis_tickangle=45)\n",
    "    fig_amount.show()\n",
    "\n",
    "    #plot_2\n",
    "    query_2 = f'''SELECT states, SUM(transaction_count) AS transaction_count\n",
    "                    FROM {table_name}\n",
    "                    GROUP BY states\n",
    "                    ORDER BY transaction_count DESC\n",
    "                    LIMIT 10;'''\n",
    "\n",
    "    cursor.execute(query_2)\n",
    "    table_2 = cursor.fetchall()\n",
    "    mydb.commit()\n",
    "\n",
    "    df_2 = pd.DataFrame(table_2, columns = (\"states\", \"transaction_count\"))\n",
    "\n",
    "    fig_amount_2 = px.bar(df_2, hover_name= \"states\",\n",
    "                        x=\"states\", y=\"transaction_count\", \n",
    "                        title=\"TRANSACTION COUNT\",\n",
    "                        color_discrete_sequence=px.colors.sequential.Agsunset_r, \n",
    "                        )\n",
    "    fig_amount_2.update_layout(height=650, width = 600, xaxis_tickangle=90)\n",
    "    fig_amount_2.show()\n",
    "\n",
    "    #plot_3\n",
    "    query_3 = f'''SELECT states, AVG(transaction_count) AS transaction_count\n",
    "                    FROM {table_name}\n",
    "                    GROUP BY states\n",
    "                    ORDER BY transaction_count;'''\n",
    "\n",
    "    cursor.execute(query_3)\n",
    "    table_3 = cursor.fetchall()\n",
    "    mydb.commit()\n",
    "\n",
    "    df_3 = pd.DataFrame(table_3, columns = (\"states\", \"transaction_count\"))\n",
    "\n",
    "    fig_amount_3 = px.bar(df_3, hover_name= \"states\",\n",
    "                        y=\"states\", x=\"transaction_count\", orientation= 'h', \n",
    "                        title=\"TRANSACTION COUNT\",\n",
    "                        color_discrete_sequence=px.colors.sequential.Bluered_r, \n",
    "                        )\n",
    "    fig_amount_3.update_layout(height=650, width = 600, xaxis_tickangle=90)\n",
    "    fig_amount_3.show()"
   ]
  },
  {
   "cell_type": "code",
   "execution_count": null,
   "id": "819af1fb",
   "metadata": {},
   "outputs": [],
   "source": [
    "# Fix: Use correct column names as per your database schema (likely lowercase)\n",
    "def top_chart_registered_user(table_name, state):\n",
    "\tmydb = psycopg2.connect(host= \"localhost\",\n",
    "\t\t\t\t\t\t\tuser= \"postgres\",\n",
    "\t\t\t\t\t\t\tport= \"5432\",\n",
    "\t\t\t\t\t\t\tdatabase = \"phonepe_data\",\n",
    "\t\t\t\t\t\t\tpassword = \"Planck00725\"\n",
    "\t\t\t\t\t\t\t)\n",
    "\tcursor = mydb.cursor()\n",
    "\n",
    "\t# Use lowercase column names as per PostgreSQL conventions\n",
    "\tquery_1 = f'''SELECT districts, SUM(\"registeredusers\") AS registeredusers\n",
    "\t\t\t\t\tFROM {table_name}\n",
    "\t\t\t\t\tWHERE states= '{state}'\n",
    "\t\t\t\t\tGROUP BY districts\n",
    "\t\t\t\t\tORDER BY registeredusers DESC\n",
    "\t\t\t\t\tLIMIT 10;'''\n",
    "\n",
    "\tcursor.execute(query_1)\n",
    "\ttable_1 = cursor.fetchall()\n",
    "\tmydb.commit()\n",
    "\n",
    "\tdf_1 = pd.DataFrame(table_1, columns = (\"districts\", \"registeredusers\"))\n",
    "\n",
    "\tfig_amount = px.bar(df_1, hover_name= \"districts\",\n",
    "\t\t\t\t\t\tx=\"districts\", y=\"registeredusers\", \n",
    "\t\t\t\t\t\ttitle=\"TOP 10 OF REGISTERED USER\",\n",
    "\t\t\t\t\t\tcolor_discrete_sequence=px.colors.sequential.Aggrnyl, \n",
    "\t\t\t\t\t\t)\n",
    "\tfig_amount.update_layout(height=650, width = 600, xaxis_tickangle=45)\n",
    "\tfig_amount.show()\n",
    "\n",
    "\t#plot_2\n",
    "\tquery_2 = f'''SELECT districts, SUM(\"registeredusers\") AS registeredusers\n",
    "\t\t\t\t\tFROM {table_name}\n",
    "\t\t\t\t\tWHERE states= '{state}'\n",
    "\t\t\t\t\tGROUP BY districts\n",
    "\t\t\t\t\tORDER BY registeredusers ASC\n",
    "\t\t\t\t\tLIMIT 10;'''\n",
    "\n",
    "\tcursor.execute(query_2)\n",
    "\ttable_2 = cursor.fetchall()\n",
    "\tmydb.commit()\n",
    "\n",
    "\tdf_2 = pd.DataFrame(table_2, columns = (\"districts\", \"registeredusers\"))\n",
    "\n",
    "\tfig_amount_2 = px.bar(df_2, hover_name= \"districts\",\n",
    "\t\t\t\t\t\tx=\"districts\", y=\"registeredusers\", \n",
    "\t\t\t\t\t\ttitle=\"BOTTOM 10 REGISTERED USER\",\n",
    "\t\t\t\t\t\tcolor_discrete_sequence=px.colors.sequential.Agsunset_r, \n",
    "\t\t\t\t\t\t)\n",
    "\tfig_amount_2.update_layout(height=650, width = 600, xaxis_tickangle=90)\n",
    "\tfig_amount_2.show()\n",
    "\n",
    "\t#plot_3\n",
    "\tquery_3 = f'''SELECT districts, AVG(\"registeredusers\") AS registeredusers\n",
    "\t\t\t\t\tFROM {table_name}\n",
    "\t\t\t\t\tWHERE states= '{state}'\n",
    "\t\t\t\t\tGROUP BY districts\n",
    "\t\t\t\t\tORDER BY registeredusers DESC\n",
    "\t\t\t\t\tLIMIT 10;\n",
    "\t\t\t\t\t'''\n",
    "\n",
    "\tcursor.execute(query_3)\n",
    "\ttable_3 = cursor.fetchall()\n",
    "\tmydb.commit()\n",
    "\n",
    "\tdf_3 = pd.DataFrame(table_3, columns = (\"districts\", \"registeredusers\"))\n",
    "\n",
    "\tfig_amount_3 = px.bar(df_3, hover_name= \"districts\",\n",
    "\t\t\t\t\t\ty=\"districts\", x=\"registeredusers\", orientation= 'h', \n",
    "\t\t\t\t\t\ttitle=\"AVERAGE OF REGISTERED USERS\",\n",
    "\t\t\t\t\t\tcolor_discrete_sequence=px.colors.sequential.Bluered_r, \n",
    "\t\t\t\t\t\t)\n",
    "\tfig_amount_3.update_layout(height=650, width = 600, xaxis_tickangle=90)\n",
    "\tfig_amount_3.show()\n"
   ]
  },
  {
   "cell_type": "code",
   "execution_count": null,
   "id": "c87639ce",
   "metadata": {},
   "outputs": [],
   "source": [
    "# Fix: Use correct column names as per your database schema (likely lowercase)\n",
    "def top_chart_appopens(table_name, state):\n",
    "\tmydb = psycopg2.connect(host= \"localhost\",\n",
    "\t\t\t\t\t\t\tuser= \"postgres\",\n",
    "\t\t\t\t\t\t\tport= \"5432\",\n",
    "\t\t\t\t\t\t\tdatabase = \"phonepe_data\",\n",
    "\t\t\t\t\t\t\tpassword = \"Planck00725\"\n",
    "\t\t\t\t\t\t\t)\n",
    "\tcursor = mydb.cursor()\n",
    "\n",
    "\t# Use lowercase column names as per PostgreSQL conventions\n",
    "\tquery_1 = f'''SELECT districts, SUM(\"appopens\") AS appopens\n",
    "\t\t\t\t\tFROM {table_name}\n",
    "\t\t\t\t\tWHERE states= '{state}'\n",
    "\t\t\t\t\tGROUP BY districts\n",
    "\t\t\t\t\tORDER BY appopens DESC\n",
    "\t\t\t\t\tLIMIT 10;'''\n",
    "\n",
    "\tcursor.execute(query_1)\n",
    "\ttable_1 = cursor.fetchall()\n",
    "\tmydb.commit()\n",
    "\n",
    "\tdf_1 = pd.DataFrame(table_1, columns = (\"districts\", \"appopens\"))\n",
    "\n",
    "\tfig_amount = px.bar(df_1, hover_name= \"districts\",\n",
    "\t\t\t\t\t\tx=\"districts\", y=\"appopens\", \n",
    "\t\t\t\t\t\ttitle=\"TOP 10 OF APP OPENS\",\n",
    "\t\t\t\t\t\tcolor_discrete_sequence=px.colors.sequential.Aggrnyl, \n",
    "\t\t\t\t\t\t)\n",
    "\tfig_amount.update_layout(height=650, width = 600, xaxis_tickangle=45)\n",
    "\tfig_amount.show()\n",
    "\n",
    "\t#plot_2\n",
    "\tquery_2 = f'''SELECT districts, SUM(\"appopens\") AS appopens\n",
    "\t\t\t\t\tFROM {table_name}\n",
    "\t\t\t\t\tWHERE states= '{state}'\n",
    "\t\t\t\t\tGROUP BY districts\n",
    "\t\t\t\t\tORDER BY appopens ASC\n",
    "\t\t\t\t\tLIMIT 10;'''\n",
    "\n",
    "\tcursor.execute(query_2)\n",
    "\ttable_2 = cursor.fetchall()\n",
    "\tmydb.commit()\n",
    "\n",
    "\tdf_2 = pd.DataFrame(table_2, columns = (\"districts\", \"appopens\"))\n",
    "\n",
    "\tfig_amount_2 = px.bar(df_2, hover_name= \"districts\",\n",
    "\t\t\t\t\t\tx=\"districts\", y=\"appopens\", \n",
    "\t\t\t\t\t\ttitle=\"BOTTOM 10 APP OPENS\",\n",
    "\t\t\t\t\t\tcolor_discrete_sequence=px.colors.sequential.Agsunset_r, \n",
    "\t\t\t\t\t\t)\n",
    "\tfig_amount_2.update_layout(height=650, width = 600, xaxis_tickangle=90)\n",
    "\tfig_amount_2.show()\n",
    "\n",
    "\t#plot_3\n",
    "\tquery_3 = f'''SELECT districts, AVG(\"appopens\") AS appopens\n",
    "\t\t\t\t\tFROM {table_name}\n",
    "\t\t\t\t\tWHERE states= '{state}'\n",
    "\t\t\t\t\tGROUP BY districts\n",
    "\t\t\t\t\tORDER BY appopens DESC\n",
    "\t\t\t\t\t'''\n",
    "\n",
    "\tcursor.execute(query_3)\n",
    "\ttable_3 = cursor.fetchall()\n",
    "\tmydb.commit()\n",
    "\n",
    "\tdf_3 = pd.DataFrame(table_3, columns = (\"districts\", \"appopens\"))\n",
    "\n",
    "\tfig_amount_3 = px.bar(df_3, hover_name= \"districts\",\n",
    "\t\t\t\t\t\ty=\"districts\", x=\"appopens\", orientation= 'h', \n",
    "\t\t\t\t\t\ttitle=\"AVERAGE OF APP OPENS\",\n",
    "\t\t\t\t\t\tcolor_discrete_sequence=px.colors.sequential.Bluered_r, \n",
    "\t\t\t\t\t\t)\n",
    "\tfig_amount_3.update_layout(height=650, width = 600, xaxis_tickangle=90)\n",
    "\tfig_amount_3.show()\n"
   ]
  },
  {
   "cell_type": "code",
   "execution_count": null,
   "id": "b02b0ef8",
   "metadata": {},
   "outputs": [],
   "source": [
    "# Fix: Use correct column names as per your database schema (likely lowercase)\n",
    "def top_chart_registered_users(table_name):\n",
    "\tmydb = psycopg2.connect(host= \"localhost\",\n",
    "\t\t\t\t\t\t\tuser= \"postgres\",\n",
    "\t\t\t\t\t\t\tport= \"5432\",\n",
    "\t\t\t\t\t\t\tdatabase = \"phonepe_data\",\n",
    "\t\t\t\t\t\t\tpassword = \"Planck00725\"\n",
    "\t\t\t\t\t\t\t)\n",
    "\tcursor = mydb.cursor()\n",
    "\n",
    "\t# Use lowercase column names as per PostgreSQL conventions\n",
    "\tquery_1 = f'''SELECT states, SUM(\"registeredusers\") AS registeredusers\n",
    "\t\t\t\t\tFROM {table_name}\n",
    "\t\t\t\t\tGROUP BY states\n",
    "\t\t\t\t\tORDER BY registeredusers DESC\n",
    "\t\t\t\t\tLIMIT 10;'''\n",
    "\n",
    "\tcursor.execute(query_1)\n",
    "\ttable_1 = cursor.fetchall()\n",
    "\tmydb.commit()\n",
    "\n",
    "\tdf_1 = pd.DataFrame(table_1, columns = (\"states\", \"registeredusers\"))\n",
    "\n",
    "\tfig_amount = px.bar(df_1, hover_name= \"states\",\n",
    "\t\t\t\t\t\tx=\"states\", y=\"registeredusers\", \n",
    "\t\t\t\t\t\ttitle=\"TOP 10 OF REGISTERED USERS\",\n",
    "\t\t\t\t\t\tcolor_discrete_sequence=px.colors.sequential.Aggrnyl, \n",
    "\t\t\t\t\t\t)\n",
    "\tfig_amount.update_layout(height=650, width = 600, xaxis_tickangle=45)\n",
    "\tfig_amount.show()\n",
    "\n",
    "\t#plot_2\n",
    "\tquery_2 = f'''SELECT states, SUM(\"registeredusers\") AS registeredusers\n",
    "\t\t\t\t\tFROM {table_name}\n",
    "\t\t\t\t\tGROUP BY states\n",
    "\t\t\t\t\tORDER BY registeredusers ASC\n",
    "\t\t\t\t\tLIMIT 10;'''\n",
    "\n",
    "\tcursor.execute(query_2)\n",
    "\ttable_2 = cursor.fetchall()\n",
    "\tmydb.commit()\n",
    "\n",
    "\tdf_2 = pd.DataFrame(table_2, columns = (\"states\", \"registeredusers\"))\n",
    "\n",
    "\tfig_amount_2 = px.bar(df_2, hover_name= \"states\",\n",
    "\t\t\t\t\t\tx=\"states\", y=\"registeredusers\", \n",
    "\t\t\t\t\t\ttitle=\"BOTTOM 10 REGISTERED USERS\",\n",
    "\t\t\t\t\t\tcolor_discrete_sequence=px.colors.sequential.Agsunset_r, \n",
    "\t\t\t\t\t\t)\n",
    "\tfig_amount_2.update_layout(height=650, width = 600, xaxis_tickangle=90)\n",
    "\tfig_amount_2.show()\n",
    "\n",
    "\t#plot_3\n",
    "\tquery_3 = f'''SELECT states, AVG(\"registeredusers\") AS registeredusers\n",
    "\t\t\t\t\tFROM {table_name}\n",
    "\t\t\t\t\tGROUP BY states\n",
    "\t\t\t\t\tORDER BY registeredusers DESC\n",
    "\t\t\t\t\t'''\n",
    "\n",
    "\tcursor.execute(query_3)\n",
    "\ttable_3 = cursor.fetchall()\n",
    "\tmydb.commit()\n",
    "\n",
    "\tdf_3 = pd.DataFrame(table_3, columns = (\"states\", \"registeredusers\"))\n",
    "\n",
    "\tfig_amount_3 = px.bar(df_3, hover_name= \"states\",\n",
    "\t\t\t\t\t\ty=\"states\", x=\"registeredusers\", orientation= 'h', \n",
    "\t\t\t\t\t\ttitle=\"AVERAGE OF REGISTERED USERS\",\n",
    "\t\t\t\t\t\tcolor_discrete_sequence=px.colors.sequential.Bluered_r, \n",
    "\t\t\t\t\t\t)\n",
    "\tfig_amount_3.update_layout(height=650, width = 600, xaxis_tickangle=90)\n",
    "\tfig_amount_3.show()\n"
   ]
  },
  {
   "cell_type": "code",
   "execution_count": null,
   "id": "6fefb250",
   "metadata": {},
   "outputs": [],
   "source": [
    "top_chart_registered_users(\"top_user\")"
   ]
  },
  {
   "cell_type": "code",
   "execution_count": null,
   "id": "b25e43f2",
   "metadata": {},
   "outputs": [],
   "source": [
    "top_chart_appopens(\"map_user\", \"Tamil Nadu\")"
   ]
  },
  {
   "cell_type": "code",
   "execution_count": null,
   "id": "559e5d91",
   "metadata": {},
   "outputs": [],
   "source": [
    "top_chart_registered_user(\"map_user\",\"Tamil Nadu\")"
   ]
  },
  {
   "cell_type": "code",
   "execution_count": null,
   "id": "ed2ea853",
   "metadata": {},
   "outputs": [],
   "source": [
    "top_chart_transaction_count(\"aggregated_insurance\")"
   ]
  },
  {
   "cell_type": "code",
   "execution_count": null,
   "id": "495cb98b",
   "metadata": {},
   "outputs": [],
   "source": [
    "top_chart_transaction_amount(\"aggregated_insurance\")"
   ]
  },
  {
   "cell_type": "code",
   "execution_count": null,
   "id": "a7b0aa40",
   "metadata": {},
   "outputs": [],
   "source": [
    "# Transaction_Year_Based \n",
    "import json\n",
    "def Transaction_amount_count_Y(df, year):\n",
    "    tacy = df[df[\"Years\"] == year]\n",
    "    tacyg = tacy.groupby(\"States\")[[\"Transaction_count\", \"Transaction_amount\"]].sum().reset_index()\n",
    "    \n",
    "    fig_amount = px.bar(tacyg.sort_values(\"Transaction_amount\", ascending=False), \n",
    "                       x=\"States\", y=\"Transaction_amount\", \n",
    "                       title=f\"{year} TRANSACTION AMOUNT\",\n",
    "                       color_discrete_sequence=px.colors.sequential.Aggrnyl, \n",
    "                        )\n",
    "    fig_amount.update_layout(height=650, width = 600, xaxis_tickangle=45)\n",
    "    fig_amount.show()\n",
    "    \n",
    "    fig_count = px.bar(tacyg.sort_values(\"Transaction_count\", ascending=False), \n",
    "                      x=\"States\", y=\"Transaction_count\", \n",
    "                      title=f\"{year} TRANSACTION COUNT\",\n",
    "                      color_discrete_sequence=px.colors.sequential.Bluered_r)\n",
    "    fig_count.update_layout(height=650, width = 600, xaxis_tickangle=45)\n",
    "    fig_count.show()\n",
    "\n",
    "    \n",
    "\n",
    "    url = \"https://gist.githubusercontent.com/jbrobst/56c13bbbf9d97d187fea01ca62ea5112/raw/e388c4cae20aa53cb5090210a42ebb9b765c0a36/india_states.geojson\"\n",
    "    response = requests.get(url)\n",
    "    response\n",
    "    data1 = json.loads(response.text)\n",
    "    states_name = []\n",
    "    data1\n",
    "    for feature in data1[\"features\"]:\n",
    "        states_name.append(feature[\"properties\"][\"ST_NM\"])\n",
    "\n",
    "    states_name.sort()\n",
    "\n",
    "    fig_india_1 = px.choropleth(tacyg, geojson=data1, locations=\"States\", featureidkey= \"properties.ST_NM\",\n",
    "                                color = \"Transaction_amount\",color_continuous_scale = \"ylgnbu\",\n",
    "                                range_color= (tacyg[\"Transaction_amount\"].min(), tacyg[\"Transaction_amount\"].max()),\n",
    "                                hover_name= \"States\", title= f\"{year} TRANSACTION AMOUNT\", fitbounds= \"locations\",\n",
    "                                height=600, width = 600)\n",
    "    fig_india_1.update_geos(visible = False)\n",
    "    fig_india_1.show()\n",
    "\n",
    "    fig_india_2 = px.choropleth(tacyg, geojson=data1, locations=\"States\", featureidkey= \"properties.ST_NM\",\n",
    "                                color = \"Transaction_count\",color_continuous_scale = \"ylgnbu\",\n",
    "                                range_color= (tacyg[\"Transaction_count\"].min(), tacyg[\"Transaction_count\"].max()),\n",
    "                                hover_name= \"States\", title= f\"{year} TRANSACTION COUNT\", fitbounds= \"locations\",\n",
    "                                height=600, width = 600)\n",
    "    fig_india_2.update_geos(visible = False)\n",
    "    fig_india_2.show()\n",
    "\n",
    "    return tacy\n"
   ]
  },
  {
   "cell_type": "code",
   "execution_count": null,
   "id": "ace528bb",
   "metadata": {},
   "outputs": [],
   "source": [
    "# Transaction_Quarter_Based \n",
    "import json\n",
    "def Transaction_amount_count_Y_Q(df, quarter):\n",
    "    tacy = df[df[\"Quarter\"] == quarter]\n",
    "    tacy.reset_index(drop = True, inplace = True)\n",
    "\n",
    "    tacyg = tacy.groupby(\"States\")[[\"Transaction_count\", \"Transaction_amount\"]].sum().reset_index()\n",
    "    tacyg.reset_index(inplace = True)\n",
    "\n",
    "    fig_amount = px.bar(tacyg.sort_values(\"Transaction_amount\", ascending=False), \n",
    "                       x=\"States\", y=\"Transaction_amount\", \n",
    "                       title=f\"{tacy[\"Years\"].min()} YEAR {quarter} QUARTER TRANSACTION AMOUNT\",\n",
    "                       color_discrete_sequence=px.colors.sequential.Aggrnyl, \n",
    "                        )\n",
    "    fig_amount.update_layout(height=650, width = 600, xaxis_tickangle=45)\n",
    "    fig_amount.show()\n",
    "    \n",
    "    fig_count = px.bar(tacyg.sort_values(\"Transaction_count\", ascending=False), \n",
    "                      x=\"States\", y=\"Transaction_count\", \n",
    "                      title=f\"{tacy[\"Years\"].min()} YEAR {quarter} QUARTER TRANSACTION COUNT\",\n",
    "                      color_discrete_sequence=px.colors.sequential.Bluered_r)\n",
    "    fig_count.update_layout(height=650, width = 600, xaxis_tickangle=45)\n",
    "    fig_count.show()\n",
    "\n",
    "    \n",
    "\n",
    "    url = \"https://gist.githubusercontent.com/jbrobst/56c13bbbf9d97d187fea01ca62ea5112/raw/e388c4cae20aa53cb5090210a42ebb9b765c0a36/india_states.geojson\"\n",
    "    response = requests.get(url)\n",
    "    response\n",
    "    data1 = json.loads(response.text)\n",
    "    states_name = []\n",
    "    data1\n",
    "    for feature in data1[\"features\"]:\n",
    "        states_name.append(feature[\"properties\"][\"ST_NM\"])\n",
    "\n",
    "    states_name.sort()\n",
    "\n",
    "    fig_india_1 = px.choropleth(tacyg, geojson=data1, locations=\"States\", featureidkey= \"properties.ST_NM\",\n",
    "                                color = \"Transaction_amount\",color_continuous_scale = \"ylgnbu\",\n",
    "                                range_color= (tacyg[\"Transaction_amount\"].min(), tacyg[\"Transaction_amount\"].max()),\n",
    "                                hover_name= \"States\", title= f\"{tacy[\"Years\"].min()} YEAR {quarter} QUARTER TRANSACTION AMOUNT\", fitbounds= \"locations\",\n",
    "                                height=600, width = 600)\n",
    "    fig_india_1.update_geos(visible = False)\n",
    "    fig_india_1.show()\n",
    "\n",
    "    fig_india_2 = px.choropleth(tacyg, geojson=data1, locations=\"States\", featureidkey= \"properties.ST_NM\",\n",
    "                                color = \"Transaction_count\",color_continuous_scale = \"ylgnbu\",\n",
    "                                range_color= (tacyg[\"Transaction_count\"].min(), tacyg[\"Transaction_count\"].max()),\n",
    "                                hover_name= \"States\", title= f\"{tacy[\"Years\"].min()} YEAR {quarter} QUARTER TRANSACTION COUNT\", fitbounds= \"locations\",\n",
    "                                height=600, width = 600)\n",
    "    fig_india_2.update_geos(visible = False)\n",
    "    fig_india_2.show()\n",
    "\n",
    "    return tacy"
   ]
  },
  {
   "cell_type": "code",
   "execution_count": null,
   "id": "4b35dc1b",
   "metadata": {},
   "outputs": [],
   "source": [
    "# Transaction type\n",
    "def Aggre_Tran_Transaction_Type(df, state):\n",
    "\n",
    "    tacy = df[df[\"States\"] == state]\n",
    "    tacy.reset_index(drop = True, inplace = True)\n",
    "\n",
    "    tacyg = tacy.groupby(\"Transaction_type\")[[\"Transaction_count\", \"Transaction_amount\"]].sum()\n",
    "    tacyg.reset_index(inplace = True)\n",
    "\n",
    "    fig_pie_1 = px.pie(data_frame= tacyg, names= \"Transaction_type\", values = \"Transaction_amount\",\n",
    "                    width = 600, title= f\"{state.upper()} TRANSACTION AMOUNT\", hole = 0.5)\n",
    "    fig_pie_1.show()\n",
    "\n",
    "    fig_pie_2 = px.pie(data_frame= tacyg, names= \"Transaction_type\", values = \"Transaction_count\",\n",
    "                    width = 600, title= f\"{state.upper()} TRANSACTION COUNT\", hole = 0.5)\n",
    "    fig_pie_2.show()\n",
    "\n"
   ]
  },
  {
   "cell_type": "code",
   "execution_count": null,
   "id": "2bb2dd14",
   "metadata": {},
   "outputs": [],
   "source": [
    "#Aggre_user_analysis_1\n",
    "def Aggre_user_plot_1(df, year):\n",
    "    aguy = df[df[\"Years\"] == year]\n",
    "    aguy.reset_index(drop = True, inplace= True)\n",
    "\n",
    "    aguyg = pd.DataFrame(aguy.groupby(\"Brands\")[\"Transaction_count\"].sum())\n",
    "    aguyg.reset_index(inplace= True)\n",
    "\n",
    "    fig_bar_1 = px.bar(aguyg, x = \"Brands\", y= \"Transaction_count\", title = f\"{year} BRANDS AND TRANSACTION COUNT\",\n",
    "                    width = 800, color_discrete_sequence= px.colors.sequential.haline_r)\n",
    "    fig_bar_1.show()\n",
    "\n",
    "    return aguy"
   ]
  },
  {
   "cell_type": "code",
   "execution_count": null,
   "id": "29d28fbf",
   "metadata": {},
   "outputs": [],
   "source": [
    "# Aggre_user_Analysis_2\n",
    "def Aggre_user_plot_2(df, quarter):\n",
    "    aguyq = df[df[\"Quarter\"] == quarter]\n",
    "    aguyq.reset_index(drop = True, inplace= True)\n",
    "\n",
    "    aguyq = pd.DataFrame(aguyq.groupby(\"Brands\")[\"Transaction_count\"].sum())\n",
    "    aguyq.reset_index(inplace= True)\n",
    "\n",
    "    fig_bar_2 = px.bar(aguyq, x = \"Brands\", y= \"Transaction_count\", title = f\"{quarter} QUARTER, BRANDS AND TRANSACTION COUNT\",\n",
    "                        width = 800, color_discrete_sequence= px.colors.sequential.haline_r , hover_name= \"Brands\")\n",
    "    fig_bar_2.show()\n",
    "\n",
    "    return aguyq"
   ]
  },
  {
   "cell_type": "code",
   "execution_count": null,
   "id": "22c78dbc",
   "metadata": {},
   "outputs": [],
   "source": [
    "# #Aggre_user_analysis_3\n",
    "# def Aggre_user_plot_3(df, state):\n",
    "#     auyqs = df[df[\"States\"] == state]\n",
    "#     auyqs.reset_index(drop = True, inplace= True)\n",
    "\n",
    "#     fig_line_2 = px.line(auyqs, x = \"Brands\", y= \"Transaction_count\", title = f\"{state} BRANDS TRANSACTION COUNT, PERCENTAGE\",\n",
    "#                         width = 1000, hover_name= \"Percentage\", markers = True)\n",
    "#     fig_line_2.show()"
   ]
  },
  {
   "cell_type": "code",
   "execution_count": null,
   "id": "2b579c8a",
   "metadata": {},
   "outputs": [],
   "source": [
    "# Map_Insurance_District\n",
    "def Map_insur_District(df, state):\n",
    "\n",
    "    tacy = df[df[\"States\"] == state]\n",
    "    tacy.reset_index(drop = True, inplace = True)\n",
    "\n",
    "    tacyg = tacy.groupby(\"District\")[[\"Transaction_count\", \"Transaction_amount\"]].sum()\n",
    "    tacyg.reset_index(inplace = True)\n",
    "\n",
    "    fig_bar_1 = px.bar(tacyg, x= \"Transaction_amount\", y= \"District\", orientation= 'h',\n",
    "                       title= f\"{state.upper()} DISTRICT AND TRANSACTION AMOUNT\", color_discrete_sequence= px.colors.sequential.Mint_r)\n",
    "    fig_bar_1.show()\n",
    "\n",
    "    fig_bar_2 = px.bar(tacyg, x= \"Transaction_count\", y= \"District\", orientation= 'h',\n",
    "                       title= f\"{state.upper()} DISTRICT AND TRANSACTION COUNT\", color_discrete_sequence= px.colors.sequential.Agsunset)\n",
    "    fig_bar_2.show()\n",
    "\n"
   ]
  },
  {
   "cell_type": "code",
   "execution_count": null,
   "id": "c21f147d",
   "metadata": {},
   "outputs": [],
   "source": [
    "#map_user_analysis_1\n",
    "def map_user_plot_1(df, year):\n",
    "    muy = df[df[\"Years\"] == 2020]\n",
    "    muy.reset_index(drop = True, inplace= True)\n",
    "\n",
    "    muyg = pd.DataFrame(muy.groupby(\"States\")[[\"RegisteredUsers\",\"AppOpens\"]].sum())\n",
    "    muyg.reset_index(inplace= True)\n",
    "\n",
    "    fig_line_1= px.line(muyg, x = \"States\", y= [\"RegisteredUsers\", \"AppOpens\"], title =f\"{year} REGISTEREDUSERS APPOPENS\",\n",
    "                        height= 800 ,width = 1000, markers = True)\n",
    "    fig_line_1.show()\n",
    "\n",
    "    return muy"
   ]
  },
  {
   "cell_type": "code",
   "execution_count": null,
   "id": "833b9ad6",
   "metadata": {},
   "outputs": [],
   "source": [
    "#map_user_analysis_2\n",
    "def map_user_plot_2(df, quarter):\n",
    "    muyq = df[df[\"Quarter\"] == quarter]\n",
    "    muyq.reset_index(drop = True, inplace= True)\n",
    "\n",
    "    muyqg = pd.DataFrame(muyq.groupby(\"States\")[[\"RegisteredUsers\",\"AppOpens\"]].sum())\n",
    "    muyqg.reset_index(inplace= True)\n",
    "\n",
    "    fig_line_1= px.line(muyqg, x = \"States\", y= [\"RegisteredUsers\", \"AppOpens\"], \n",
    "                        title =f\"{df[\"Years\"].min()} YEAR {quarter} QUARTER REGISTEREDUSERS APPOPENS\",\n",
    "                        height= 800 ,width = 1000, markers = True, color_discrete_sequence= px.colors.sequential.Rainbow_r)\n",
    "    fig_line_1.show()\n",
    "\n",
    "    return muyq"
   ]
  },
  {
   "cell_type": "code",
   "execution_count": null,
   "id": "d083e4ab",
   "metadata": {},
   "outputs": [],
   "source": [
    "#map_user_plot_3\n",
    "def map_user_plot_3(df, states):\n",
    "    muyqs = df[df[\"States\"] == states]\n",
    "    muyqs.reset_index(drop = True, inplace= True)\n",
    "\n",
    "    fig_map_user_bar_1 = px.bar(muyqs, x= \"RegisteredUsers\", y=\"District\", orientation= 'h',\n",
    "                                title= \"REGISTERED USER\",color_discrete_sequence= px.colors.sequential.Rainbow_r)\n",
    "    fig_map_user_bar_1.show()\n",
    "\n",
    "    fig_map_user_bar_2 = px.bar(muyqs, x= \"AppOpens\", y=\"District\", orientation= 'h',\n",
    "                                title= \"APPOPENS\", color_discrete_sequence= px.colors.sequential.Rainbow_r)\n",
    "    fig_map_user_bar_2.show()\n",
    "\n",
    "    return muyqs"
   ]
  },
  {
   "cell_type": "code",
   "execution_count": null,
   "id": "805da931",
   "metadata": {},
   "outputs": [],
   "source": [
    "# top_insur_analysis\n",
    "def Top_insurance_plot_1(df, state):\n",
    "    tiy = df[df[\"States\"] == state]\n",
    "    tiy.reset_index(drop = True, inplace= True)\n",
    "\n",
    "    tiyg = tiy.groupby(\"Pincodes\")[[\"Transaction_count\",\"Transaction_amount\"]].sum()\n",
    "    tiyg.reset_index(inplace= True)\n",
    "\n",
    "    fig_top_insur_bar_1 = px.bar(tiy, x= \"Quarter\", y=\"Transaction_amount\", orientation= 'h',\n",
    "                                hover_data= \"Pincodes\", title= \"TRANSACTION AMOUNT\",color_discrete_sequence= px.colors.sequential.Rainbow_r)\n",
    "    fig_top_insur_bar_1.show()\n",
    "\n",
    "    fig_top_insur_bar_2 = px.bar(tiy, x= \"Quarter\", y=\"Transaction_amount\", orientation= 'h',\n",
    "                                hover_data= \"Pincodes\", title= \"TRANSACTION COUNT\",color_discrete_sequence= px.colors.sequential.Agsunset_r)\n",
    "    fig_top_insur_bar_2.show()\n",
    "\n",
    "    return tiy"
   ]
  },
  {
   "cell_type": "code",
   "execution_count": null,
   "id": "95e4c755",
   "metadata": {},
   "outputs": [],
   "source": [
    "#top_user_analysis\n",
    "def top_user_plot_1(df, year):\n",
    "    tuy = df[df[\"Years\"] == year]\n",
    "    tuy.reset_index(drop = True, inplace= True)\n",
    "\n",
    "    tuyg = pd.DataFrame(tuy.groupby([\"States\",\"Quarter\"])[\"RegisteredUsers\"].sum())\n",
    "    tuyg.reset_index(inplace= True)\n",
    "\n",
    "    fig_top_plot_1 =  px.bar(tuyg, x= \"States\", y=\"RegisteredUsers\", color= \"Quarter\",width= 1000, height= 800,\n",
    "                                    hover_name= \"States\", color_discrete_sequence= px.colors.sequential.Burgyl,\n",
    "                                    title=f\"{year} REGISTERED USERS\")\n",
    "    fig_top_plot_1.show()\n",
    "\n",
    "    return tuy"
   ]
  },
  {
   "cell_type": "code",
   "execution_count": null,
   "id": "c9289a87",
   "metadata": {},
   "outputs": [],
   "source": [
    "#top_user_analysis_2\n",
    "def top_user_plot_2(df, state):\n",
    "    tuys = df[df[\"States\"] == state]\n",
    "    tuys.reset_index(drop = True, inplace= True)\n",
    "\n",
    "    fig_top_plot_2 =  px.bar(tuys, x= \"Quarter\", y=\"RegisteredUsers\", color= \"RegisteredUsers\",width= 1000, height= 800,\n",
    "                                    hover_data= \"Pincodes\", color_continuous_scale= px.colors.sequential.Magenta,\n",
    "                                    title=\"REGISTEREDUSERS, PINCODES, QUARTER\")\n",
    "    fig_top_plot_2.show()\n"
   ]
  },
  {
   "cell_type": "markdown",
   "id": "88d417d3",
   "metadata": {},
   "source": [
    "### Aggregated_insurance"
   ]
  },
  {
   "cell_type": "code",
   "execution_count": null,
   "id": "a1903605",
   "metadata": {},
   "outputs": [],
   "source": [
    "tac_Y = Transaction_amount_count_Y(Aggre_insurance,2021)"
   ]
  },
  {
   "cell_type": "code",
   "execution_count": null,
   "id": "05b6a2ba",
   "metadata": {},
   "outputs": [],
   "source": [
    "Transaction_amount_count_Y_Q(tac_Y, 2)"
   ]
  },
  {
   "cell_type": "markdown",
   "id": "3dafb35c",
   "metadata": {},
   "source": [
    "### Aggregated_Transaction"
   ]
  },
  {
   "cell_type": "code",
   "execution_count": null,
   "id": "8bbd66f2",
   "metadata": {},
   "outputs": [],
   "source": [
    "Aggre_tran_tac_Y = Transaction_amount_count_Y(Aggre_transaction,2021)"
   ]
  },
  {
   "cell_type": "code",
   "execution_count": null,
   "id": "6c8b7c05",
   "metadata": {},
   "outputs": [],
   "source": [
    "Aggre_Tran_Transaction_Type(Aggre_tran_tac_Y, 'Tamil Nadu')"
   ]
  },
  {
   "cell_type": "code",
   "execution_count": null,
   "id": "229a8756",
   "metadata": {},
   "outputs": [],
   "source": [
    "Aggre_tran_tac_Y_Q = Transaction_amount_count_Y_Q(Aggre_tran_tac_Y, 3)"
   ]
  },
  {
   "cell_type": "code",
   "execution_count": null,
   "id": "7cc05663",
   "metadata": {},
   "outputs": [],
   "source": [
    "Aggre_Tran_Transaction_Type(Aggre_tran_tac_Y_Q, 'Tamil Nadu')"
   ]
  },
  {
   "cell_type": "markdown",
   "id": "b3610f97",
   "metadata": {},
   "source": [
    "### Aggregated_User"
   ]
  },
  {
   "cell_type": "code",
   "execution_count": null,
   "id": "04656cd0",
   "metadata": {},
   "outputs": [],
   "source": [
    "Aggre_user_Y = Aggre_user_plot_1(Aggre_user, 2020)"
   ]
  },
  {
   "cell_type": "code",
   "execution_count": null,
   "id": "035eeb61",
   "metadata": {},
   "outputs": [],
   "source": [
    "Aggre_user_Y_Q = Aggre_user_plot_2(Aggre_user_Y, 3)"
   ]
  },
  {
   "cell_type": "code",
   "execution_count": null,
   "id": "f858761b",
   "metadata": {},
   "outputs": [],
   "source": [
    "# Aggre_user_plot_3(Aggre_user_Y_Q, \"Andaman & Nicobar\")"
   ]
  },
  {
   "cell_type": "markdown",
   "id": "ad7dc71c",
   "metadata": {},
   "source": [
    "### Map_insurance"
   ]
  },
  {
   "cell_type": "code",
   "execution_count": null,
   "id": "7de557d5",
   "metadata": {},
   "outputs": [],
   "source": [
    "Map_insur_tac_Y = Transaction_amount_count_Y(map_insurance,2021)"
   ]
  },
  {
   "cell_type": "code",
   "execution_count": null,
   "id": "b3624c62",
   "metadata": {},
   "outputs": [],
   "source": [
    "Map_insur_District(Map_insur_tac_Y, 'West Bengal')"
   ]
  },
  {
   "cell_type": "code",
   "execution_count": null,
   "id": "b168553a",
   "metadata": {},
   "outputs": [],
   "source": [
    "Map_insur_tac_Y_Q = Transaction_amount_count_Y_Q(Map_insur_tac_Y, 3)"
   ]
  },
  {
   "cell_type": "code",
   "execution_count": null,
   "id": "2f35d500",
   "metadata": {},
   "outputs": [],
   "source": [
    "Map_insur_District(Map_insur_tac_Y_Q, 'Tamil Nadu')"
   ]
  },
  {
   "cell_type": "markdown",
   "id": "62e7d803",
   "metadata": {},
   "source": [
    "### Map_transaction"
   ]
  },
  {
   "cell_type": "code",
   "execution_count": null,
   "id": "5111515e",
   "metadata": {},
   "outputs": [],
   "source": [
    "Map_tran_tac_Y = Transaction_amount_count_Y(map_transaction,2023)"
   ]
  },
  {
   "cell_type": "code",
   "execution_count": null,
   "id": "26f284ee",
   "metadata": {},
   "outputs": [],
   "source": [
    "Map_insur_District(Map_tran_tac_Y, 'West Bengal')"
   ]
  },
  {
   "cell_type": "code",
   "execution_count": null,
   "id": "391c1ef7",
   "metadata": {},
   "outputs": [],
   "source": [
    "Map_tran_tac_Y_Q = Transaction_amount_count_Y_Q(Map_tran_tac_Y, 3)"
   ]
  },
  {
   "cell_type": "code",
   "execution_count": null,
   "id": "e8a83f53",
   "metadata": {},
   "outputs": [],
   "source": [
    "Map_insur_District(Map_tran_tac_Y_Q, 'Tamil Nadu')"
   ]
  },
  {
   "cell_type": "markdown",
   "id": "e6a73f86",
   "metadata": {},
   "source": [
    "### Map_user"
   ]
  },
  {
   "cell_type": "code",
   "execution_count": null,
   "id": "5af4c293",
   "metadata": {},
   "outputs": [],
   "source": [
    "Map_user_Y = map_user_plot_1(map_user, 2024)"
   ]
  },
  {
   "cell_type": "code",
   "execution_count": null,
   "id": "fca41a66",
   "metadata": {},
   "outputs": [],
   "source": [
    "Map_user_Y_Q = map_user_plot_2(Map_user_Y, 3)"
   ]
  },
  {
   "cell_type": "code",
   "execution_count": null,
   "id": "f92f3056",
   "metadata": {},
   "outputs": [],
   "source": [
    "Map_user_Y"
   ]
  },
  {
   "cell_type": "markdown",
   "id": "251489da",
   "metadata": {},
   "source": [
    "### Top_insurance\n"
   ]
  },
  {
   "cell_type": "code",
   "execution_count": null,
   "id": "1c9b8a4f",
   "metadata": {},
   "outputs": [],
   "source": [
    "Top_insur_tac_Y = Transaction_amount_count_Y(top_insurance,2023)"
   ]
  },
  {
   "cell_type": "code",
   "execution_count": null,
   "id": "137f857c",
   "metadata": {},
   "outputs": [],
   "source": [
    "Top_insurance_plot_1(Top_insur_tac_Y, \"West Bengal\")"
   ]
  },
  {
   "cell_type": "code",
   "execution_count": null,
   "id": "6958dae5",
   "metadata": {},
   "outputs": [],
   "source": [
    "top_insur_tac_Y_Q = Transaction_amount_count_Y_Q(Top_insur_tac_Y, 3)"
   ]
  },
  {
   "cell_type": "markdown",
   "id": "e98ec254",
   "metadata": {},
   "source": [
    "### Top_transaction"
   ]
  },
  {
   "cell_type": "code",
   "execution_count": null,
   "id": "be1031b8",
   "metadata": {},
   "outputs": [],
   "source": [
    "Top_tran_tac_Y = Transaction_amount_count_Y(top_transaction,2023)"
   ]
  },
  {
   "cell_type": "code",
   "execution_count": null,
   "id": "69d77da1",
   "metadata": {},
   "outputs": [],
   "source": [
    "Top_insurance_plot_1(Top_tran_tac_Y, \"West Bengal\")"
   ]
  },
  {
   "cell_type": "code",
   "execution_count": null,
   "id": "434444d3",
   "metadata": {},
   "outputs": [],
   "source": [
    "top_tran_tac_Y_Q = Transaction_amount_count_Y_Q(Top_tran_tac_Y, 3)"
   ]
  },
  {
   "cell_type": "markdown",
   "id": "2de124ed",
   "metadata": {},
   "source": [
    "### Top_user"
   ]
  },
  {
   "cell_type": "code",
   "execution_count": null,
   "id": "e53b00ab",
   "metadata": {},
   "outputs": [],
   "source": [
    "Top_user_Y = top_user_plot_1(top_user, 2021)"
   ]
  },
  {
   "cell_type": "code",
   "execution_count": null,
   "id": "2e5c6898",
   "metadata": {},
   "outputs": [],
   "source": [
    "top_user_plot_2(Top_user_Y, 'Andaman & Nicobar')"
   ]
  },
  {
   "cell_type": "code",
   "execution_count": null,
   "id": "bd533651",
   "metadata": {},
   "outputs": [],
   "source": [
    "Top_user_Y"
   ]
  },
  {
   "cell_type": "code",
   "execution_count": null,
   "id": "7ad0ee41",
   "metadata": {},
   "outputs": [],
   "source": []
  }
 ],
 "metadata": {
  "kernelspec": {
   "display_name": "Python 3",
   "language": "python",
   "name": "python3"
  },
  "language_info": {
   "codemirror_mode": {
    "name": "ipython",
    "version": 3
   },
   "file_extension": ".py",
   "mimetype": "text/x-python",
   "name": "python",
   "nbconvert_exporter": "python",
   "pygments_lexer": "ipython3",
   "version": "3.13.3"
  }
 },
 "nbformat": 4,
 "nbformat_minor": 5
}
